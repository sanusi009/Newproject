{
 "cells": [
  {
   "cell_type": "code",
   "execution_count": 1,
   "id": "6181d6ec",
   "metadata": {},
   "outputs": [],
   "source": [
    "import numpy as np"
   ]
  },
  {
   "cell_type": "code",
   "execution_count": 2,
   "id": "978b7e53",
   "metadata": {},
   "outputs": [],
   "source": [
    "myArray1 = np.random.rand(50)"
   ]
  },
  {
   "cell_type": "code",
   "execution_count": 3,
   "id": "9a832290",
   "metadata": {},
   "outputs": [
    {
     "data": {
      "text/plain": [
       "array([0.03123748, 0.69277927, 0.66224148, 0.87464497, 0.70839166,\n",
       "       0.81272812, 0.49533728, 0.82574764, 0.1560904 , 0.1526226 ,\n",
       "       0.41795449, 0.38498588, 0.79124307, 0.00807131, 0.30252556,\n",
       "       0.44027845, 0.59217715, 0.04989461, 0.03204547, 0.4530881 ,\n",
       "       0.42086068, 0.9718739 , 0.91005662, 0.62449575, 0.85536281,\n",
       "       0.55673728, 0.27904674, 0.84837339, 0.19981123, 0.77305331,\n",
       "       0.85063703, 0.17754273, 0.16264391, 0.47569382, 0.71286235,\n",
       "       0.5529999 , 0.95595836, 0.28756504, 0.23311457, 0.66303167,\n",
       "       0.86820257, 0.51455059, 0.10043469, 0.34743245, 0.23968959,\n",
       "       0.47516692, 0.78516366, 0.31961908, 0.42758134, 0.46921308])"
      ]
     },
     "execution_count": 3,
     "metadata": {},
     "output_type": "execute_result"
    }
   ],
   "source": [
    "myArray1"
   ]
  },
  {
   "cell_type": "code",
   "execution_count": 4,
   "id": "efb9e1a0",
   "metadata": {},
   "outputs": [],
   "source": [
    "myArray1 = 10*np.random.rand(50)"
   ]
  },
  {
   "cell_type": "code",
   "execution_count": 5,
   "id": "cd1d964f",
   "metadata": {},
   "outputs": [
    {
     "data": {
      "text/plain": [
       "array([7.08286721, 6.79237913, 7.49043074, 6.60252164, 5.985969  ,\n",
       "       3.48970927, 7.30903293, 8.33605012, 5.53486105, 1.13133837,\n",
       "       9.44054879, 3.2339937 , 5.16570296, 8.71397208, 4.48428117,\n",
       "       5.33537526, 9.57710665, 6.41476861, 6.53125905, 0.26773641,\n",
       "       7.33054615, 9.3773483 , 7.75293351, 3.03157293, 8.49391722,\n",
       "       2.62800928, 0.55450402, 3.99477011, 0.16792202, 7.87426237,\n",
       "       0.80834887, 1.70700838, 9.74309547, 6.80865721, 1.31229238,\n",
       "       6.49632249, 1.00782714, 8.29467993, 6.6421489 , 2.08260337,\n",
       "       2.53152272, 5.30720404, 5.04067928, 5.0482725 , 2.14616261,\n",
       "       5.7456749 , 7.30671922, 7.46466147, 0.17473251, 5.58206633])"
      ]
     },
     "execution_count": 5,
     "metadata": {},
     "output_type": "execute_result"
    }
   ],
   "source": [
    "myArray1"
   ]
  },
  {
   "cell_type": "code",
   "execution_count": 6,
   "id": "00604fd6",
   "metadata": {},
   "outputs": [
    {
     "data": {
      "text/plain": [
       "array([7., 6., 7., 6., 5., 3., 7., 8., 5., 1., 9., 3., 5., 8., 4., 5., 9.,\n",
       "       6., 6., 0., 7., 9., 7., 3., 8., 2., 0., 3., 0., 7., 0., 1., 9., 6.,\n",
       "       1., 6., 1., 8., 6., 2., 2., 5., 5., 5., 2., 5., 7., 7., 0., 5.])"
      ]
     },
     "execution_count": 6,
     "metadata": {},
     "output_type": "execute_result"
    }
   ],
   "source": [
    "np.floor(myArray1)"
   ]
  },
  {
   "cell_type": "code",
   "execution_count": 7,
   "id": "83eb4b93",
   "metadata": {},
   "outputs": [],
   "source": [
    "\n",
    "myArray2 = myArray1 > 5"
   ]
  },
  {
   "cell_type": "code",
   "execution_count": 8,
   "id": "59ce8f08",
   "metadata": {},
   "outputs": [
    {
     "data": {
      "text/plain": [
       "array([ True,  True,  True,  True,  True, False,  True,  True,  True,\n",
       "       False,  True, False,  True,  True, False,  True,  True,  True,\n",
       "        True, False,  True,  True,  True, False,  True, False, False,\n",
       "       False, False,  True, False, False,  True,  True, False,  True,\n",
       "       False,  True,  True, False, False,  True,  True,  True, False,\n",
       "        True,  True,  True, False,  True])"
      ]
     },
     "execution_count": 8,
     "metadata": {},
     "output_type": "execute_result"
    }
   ],
   "source": [
    "myArray2"
   ]
  },
  {
   "cell_type": "code",
   "execution_count": 9,
   "id": "fb150605",
   "metadata": {},
   "outputs": [],
   "source": [
    "myArray2 = myArray1[myArray1 > 5]"
   ]
  },
  {
   "cell_type": "code",
   "execution_count": 10,
   "id": "e0232b02",
   "metadata": {},
   "outputs": [
    {
     "data": {
      "text/plain": [
       "array([7.08286721, 6.79237913, 7.49043074, 6.60252164, 5.985969  ,\n",
       "       7.30903293, 8.33605012, 5.53486105, 9.44054879, 5.16570296,\n",
       "       8.71397208, 5.33537526, 9.57710665, 6.41476861, 6.53125905,\n",
       "       7.33054615, 9.3773483 , 7.75293351, 8.49391722, 7.87426237,\n",
       "       9.74309547, 6.80865721, 6.49632249, 8.29467993, 6.6421489 ,\n",
       "       5.30720404, 5.04067928, 5.0482725 , 5.7456749 , 7.30671922,\n",
       "       7.46466147, 5.58206633])"
      ]
     },
     "execution_count": 10,
     "metadata": {},
     "output_type": "execute_result"
    }
   ],
   "source": [
    "myArray2"
   ]
  },
  {
   "cell_type": "code",
   "execution_count": 11,
   "id": "c6a2176d",
   "metadata": {},
   "outputs": [],
   "source": [
    "myArray2.sort()"
   ]
  },
  {
   "cell_type": "code",
   "execution_count": 12,
   "id": "3b25f62c",
   "metadata": {},
   "outputs": [
    {
     "data": {
      "text/plain": [
       "array([5.04067928, 5.0482725 , 5.16570296, 5.30720404, 5.33537526,\n",
       "       5.53486105, 5.58206633, 5.7456749 , 5.985969  , 6.41476861,\n",
       "       6.49632249, 6.53125905, 6.60252164, 6.6421489 , 6.79237913,\n",
       "       6.80865721, 7.08286721, 7.30671922, 7.30903293, 7.33054615,\n",
       "       7.46466147, 7.49043074, 7.75293351, 7.87426237, 8.29467993,\n",
       "       8.33605012, 8.49391722, 8.71397208, 9.3773483 , 9.44054879,\n",
       "       9.57710665, 9.74309547])"
      ]
     },
     "execution_count": 12,
     "metadata": {},
     "output_type": "execute_result"
    }
   ],
   "source": [
    "myArray2"
   ]
  },
  {
   "cell_type": "code",
   "execution_count": 13,
   "id": "c7a21d8f",
   "metadata": {},
   "outputs": [
    {
     "data": {
      "text/plain": [
       "array([5.04067928, 5.0482725 , 5.16570296, 5.30720404, 5.33537526,\n",
       "       5.53486105, 5.58206633, 5.7456749 , 5.985969  , 6.41476861,\n",
       "       6.49632249, 6.53125905, 6.60252164, 6.6421489 , 6.79237913,\n",
       "       6.80865721, 7.08286721, 7.30671922, 7.30903293, 7.33054615,\n",
       "       7.46466147, 7.49043074, 7.75293351, 7.87426237, 8.29467993,\n",
       "       8.33605012, 8.49391722, 8.71397208, 9.3773483 , 9.44054879,\n",
       "       9.57710665, 9.74309547])"
      ]
     },
     "execution_count": 13,
     "metadata": {},
     "output_type": "execute_result"
    }
   ],
   "source": [
    "np.sort(myArray2)"
   ]
  },
  {
   "cell_type": "code",
   "execution_count": 14,
   "id": "4ad72fc2",
   "metadata": {},
   "outputs": [],
   "source": [
    "myArray1.sort()"
   ]
  },
  {
   "cell_type": "code",
   "execution_count": 15,
   "id": "5c88fb6b",
   "metadata": {},
   "outputs": [],
   "source": [
    "myArray1 = myArray1[::-1]"
   ]
  },
  {
   "cell_type": "code",
   "execution_count": 16,
   "id": "8aa468b8",
   "metadata": {},
   "outputs": [
    {
     "data": {
      "text/plain": [
       "array([9.74309547, 9.57710665, 9.44054879, 9.3773483 , 8.71397208,\n",
       "       8.49391722, 8.33605012, 8.29467993, 7.87426237, 7.75293351,\n",
       "       7.49043074, 7.46466147, 7.33054615, 7.30903293, 7.30671922,\n",
       "       7.08286721, 6.80865721, 6.79237913, 6.6421489 , 6.60252164,\n",
       "       6.53125905, 6.49632249, 6.41476861, 5.985969  , 5.7456749 ,\n",
       "       5.58206633, 5.53486105, 5.33537526, 5.30720404, 5.16570296,\n",
       "       5.0482725 , 5.04067928, 4.48428117, 3.99477011, 3.48970927,\n",
       "       3.2339937 , 3.03157293, 2.62800928, 2.53152272, 2.14616261,\n",
       "       2.08260337, 1.70700838, 1.31229238, 1.13133837, 1.00782714,\n",
       "       0.80834887, 0.55450402, 0.26773641, 0.17473251, 0.16792202])"
      ]
     },
     "execution_count": 16,
     "metadata": {},
     "output_type": "execute_result"
    }
   ],
   "source": [
    "myArray1"
   ]
  },
  {
   "cell_type": "code",
   "execution_count": 17,
   "id": "c77de3a1",
   "metadata": {},
   "outputs": [
    {
     "data": {
      "text/plain": [
       "array([0.16792202, 0.17473251, 0.26773641, 0.55450402, 0.80834887,\n",
       "       1.00782714, 1.13133837, 1.31229238, 1.70700838, 2.08260337,\n",
       "       2.14616261, 2.53152272, 2.62800928, 3.03157293, 3.2339937 ,\n",
       "       3.48970927, 3.99477011, 4.48428117, 5.04067928, 5.0482725 ,\n",
       "       5.16570296, 5.30720404, 5.33537526, 5.53486105, 5.58206633,\n",
       "       5.7456749 , 5.985969  , 6.41476861, 6.49632249, 6.53125905,\n",
       "       6.60252164, 6.6421489 , 6.79237913, 6.80865721, 7.08286721,\n",
       "       7.30671922, 7.30903293, 7.33054615, 7.46466147, 7.49043074,\n",
       "       7.75293351, 7.87426237, 8.29467993, 8.33605012, 8.49391722,\n",
       "       8.71397208, 9.3773483 , 9.44054879, 9.57710665, 9.74309547])"
      ]
     },
     "execution_count": 17,
     "metadata": {},
     "output_type": "execute_result"
    }
   ],
   "source": [
    "np.sort(myArray1)"
   ]
  },
  {
   "cell_type": "code",
   "execution_count": 18,
   "id": "5062567d",
   "metadata": {},
   "outputs": [],
   "source": [
    "array3 = np.sort(myArray1)"
   ]
  },
  {
   "cell_type": "code",
   "execution_count": 19,
   "id": "3674c0ee",
   "metadata": {},
   "outputs": [],
   "source": [
    "array3 = array3[::-1]"
   ]
  },
  {
   "cell_type": "code",
   "execution_count": 20,
   "id": "858c2c7f",
   "metadata": {},
   "outputs": [
    {
     "data": {
      "text/plain": [
       "array([9.74309547, 9.57710665, 9.44054879, 9.3773483 , 8.71397208,\n",
       "       8.49391722, 8.33605012, 8.29467993, 7.87426237, 7.75293351,\n",
       "       7.49043074, 7.46466147, 7.33054615, 7.30903293, 7.30671922,\n",
       "       7.08286721, 6.80865721, 6.79237913, 6.6421489 , 6.60252164,\n",
       "       6.53125905, 6.49632249, 6.41476861, 5.985969  , 5.7456749 ,\n",
       "       5.58206633, 5.53486105, 5.33537526, 5.30720404, 5.16570296,\n",
       "       5.0482725 , 5.04067928, 4.48428117, 3.99477011, 3.48970927,\n",
       "       3.2339937 , 3.03157293, 2.62800928, 2.53152272, 2.14616261,\n",
       "       2.08260337, 1.70700838, 1.31229238, 1.13133837, 1.00782714,\n",
       "       0.80834887, 0.55450402, 0.26773641, 0.17473251, 0.16792202])"
      ]
     },
     "execution_count": 20,
     "metadata": {},
     "output_type": "execute_result"
    }
   ],
   "source": [
    "array3"
   ]
  },
  {
   "cell_type": "code",
   "execution_count": 21,
   "id": "e052750a",
   "metadata": {},
   "outputs": [],
   "source": [
    "x = np.array([('Permanent',31,'1990',5000),('Non-Permanent',24,'1997',25000),('Permanent',36,'1985',50000)],\n",
    "               dtype = [('EmployeeType', 'U20'),('Age','i8'),('BirthYear','U10'),('Salary', 'i8')])"
   ]
  },
  {
   "cell_type": "code",
   "execution_count": 22,
   "id": "275148b9",
   "metadata": {},
   "outputs": [
    {
     "data": {
      "text/plain": [
       "array(['1990', '1997', '1985'], dtype='<U10')"
      ]
     },
     "execution_count": 22,
     "metadata": {},
     "output_type": "execute_result"
    }
   ],
   "source": [
    "x['Age']\n",
    "\n",
    "x['EmployeeType']\n",
    "\n",
    "x['Salary']\n",
    "\n",
    "x['BirthYear']"
   ]
  },
  {
   "cell_type": "code",
   "execution_count": 23,
   "id": "f2287369",
   "metadata": {},
   "outputs": [],
   "source": [
    "import pandas as pd"
   ]
  },
  {
   "cell_type": "code",
   "execution_count": 24,
   "id": "4db4fdcf",
   "metadata": {},
   "outputs": [
    {
     "data": {
      "text/html": [
       "<div>\n",
       "<style scoped>\n",
       "    .dataframe tbody tr th:only-of-type {\n",
       "        vertical-align: middle;\n",
       "    }\n",
       "\n",
       "    .dataframe tbody tr th {\n",
       "        vertical-align: top;\n",
       "    }\n",
       "\n",
       "    .dataframe thead th {\n",
       "        text-align: right;\n",
       "    }\n",
       "</style>\n",
       "<table border=\"1\" class=\"dataframe\">\n",
       "  <thead>\n",
       "    <tr style=\"text-align: right;\">\n",
       "      <th></th>\n",
       "      <th>Names</th>\n",
       "      <th>vaccined</th>\n",
       "      <th>country</th>\n",
       "    </tr>\n",
       "  </thead>\n",
       "  <tbody>\n",
       "    <tr>\n",
       "      <th>A</th>\n",
       "      <td>Alan</td>\n",
       "      <td>True</td>\n",
       "      <td>Pakistan</td>\n",
       "    </tr>\n",
       "    <tr>\n",
       "      <th>B</th>\n",
       "      <td>John</td>\n",
       "      <td>False</td>\n",
       "      <td>China</td>\n",
       "    </tr>\n",
       "    <tr>\n",
       "      <th>C</th>\n",
       "      <td>Cindy</td>\n",
       "      <td>False</td>\n",
       "      <td>Pakistan</td>\n",
       "    </tr>\n",
       "    <tr>\n",
       "      <th>D</th>\n",
       "      <td>Stacy</td>\n",
       "      <td>True</td>\n",
       "      <td>China</td>\n",
       "    </tr>\n",
       "    <tr>\n",
       "      <th>I</th>\n",
       "      <td>Isiaka</td>\n",
       "      <td>True</td>\n",
       "      <td>Pakistan</td>\n",
       "    </tr>\n",
       "    <tr>\n",
       "      <th>E</th>\n",
       "      <td>Diana</td>\n",
       "      <td>False</td>\n",
       "      <td>China</td>\n",
       "    </tr>\n",
       "  </tbody>\n",
       "</table>\n",
       "</div>"
      ],
      "text/plain": [
       "    Names vaccined   country\n",
       "A    Alan     True  Pakistan\n",
       "B    John    False     China\n",
       "C   Cindy    False  Pakistan\n",
       "D   Stacy     True     China\n",
       "I  Isiaka     True  Pakistan\n",
       "E   Diana    False     China"
      ]
     },
     "execution_count": 24,
     "metadata": {},
     "output_type": "execute_result"
    }
   ],
   "source": [
    "name = {'A': 'Alan', 'B':'John','C':'Cindy', 'D': 'Stacy', 'I':'Isiaka', 'E':'Diana'}\n",
    "\n",
    "Vaccinated = {'A': 'True', 'B':'False', 'C':'False', 'D':'True','I':'True', 'E':'False'}\n",
    "\n",
    "Country = {'A':'Pakistan', 'B':'China', 'C':'Pakistan','D':'China','I':'Pakistan','E':'China'}\n",
    "\n",
    "D = pd.DataFrame({'Names':name,'vaccined':Vaccinated, 'country':Country})\n",
    "D"
   ]
  },
  {
   "cell_type": "code",
   "execution_count": 25,
   "id": "f6a84692",
   "metadata": {},
   "outputs": [
    {
     "data": {
      "text/html": [
       "<div>\n",
       "<style scoped>\n",
       "    .dataframe tbody tr th:only-of-type {\n",
       "        vertical-align: middle;\n",
       "    }\n",
       "\n",
       "    .dataframe tbody tr th {\n",
       "        vertical-align: top;\n",
       "    }\n",
       "\n",
       "    .dataframe thead th {\n",
       "        text-align: right;\n",
       "    }\n",
       "</style>\n",
       "<table border=\"1\" class=\"dataframe\">\n",
       "  <thead>\n",
       "    <tr style=\"text-align: right;\">\n",
       "      <th></th>\n",
       "      <th>Names</th>\n",
       "      <th>vaccined</th>\n",
       "    </tr>\n",
       "    <tr>\n",
       "      <th>country</th>\n",
       "      <th></th>\n",
       "      <th></th>\n",
       "    </tr>\n",
       "  </thead>\n",
       "  <tbody>\n",
       "    <tr>\n",
       "      <th>China</th>\n",
       "      <td>JohnStacyDiana</td>\n",
       "      <td>FalseTrueFalse</td>\n",
       "    </tr>\n",
       "    <tr>\n",
       "      <th>Pakistan</th>\n",
       "      <td>AlanCindyIsiaka</td>\n",
       "      <td>TrueFalseTrue</td>\n",
       "    </tr>\n",
       "  </tbody>\n",
       "</table>\n",
       "</div>"
      ],
      "text/plain": [
       "                    Names        vaccined\n",
       "country                                  \n",
       "China      JohnStacyDiana  FalseTrueFalse\n",
       "Pakistan  AlanCindyIsiaka   TrueFalseTrue"
      ]
     },
     "execution_count": 25,
     "metadata": {},
     "output_type": "execute_result"
    }
   ],
   "source": [
    "D.groupby([D.country]).sum()"
   ]
  },
  {
   "cell_type": "code",
   "execution_count": 26,
   "id": "698225d1",
   "metadata": {},
   "outputs": [],
   "source": [
    "#D.groupby([D.country]).mean()"
   ]
  },
  {
   "cell_type": "code",
   "execution_count": 27,
   "id": "b862c118",
   "metadata": {},
   "outputs": [
    {
     "data": {
      "text/plain": [
       "array([['Alan', 'True', 'Pakistan'],\n",
       "       ['John', 'False', 'China'],\n",
       "       ['Cindy', 'False', 'Pakistan'],\n",
       "       ['Stacy', 'True', 'China'],\n",
       "       ['Isiaka', 'True', 'Pakistan'],\n",
       "       ['Diana', 'False', 'China']], dtype=object)"
      ]
     },
     "execution_count": 27,
     "metadata": {},
     "output_type": "execute_result"
    }
   ],
   "source": [
    "D.values"
   ]
  },
  {
   "cell_type": "code",
   "execution_count": 28,
   "id": "6cdf9b97",
   "metadata": {},
   "outputs": [
    {
     "data": {
      "text/plain": [
       "'Isiaka'"
      ]
     },
     "execution_count": 28,
     "metadata": {},
     "output_type": "execute_result"
    }
   ],
   "source": [
    "D.values[4,0]"
   ]
  },
  {
   "cell_type": "code",
   "execution_count": 29,
   "id": "ce18eb3c",
   "metadata": {},
   "outputs": [],
   "source": [
    "K = D[D['vaccined']== 'True']"
   ]
  },
  {
   "cell_type": "code",
   "execution_count": 30,
   "id": "0336720b",
   "metadata": {},
   "outputs": [
    {
     "data": {
      "text/html": [
       "<div>\n",
       "<style scoped>\n",
       "    .dataframe tbody tr th:only-of-type {\n",
       "        vertical-align: middle;\n",
       "    }\n",
       "\n",
       "    .dataframe tbody tr th {\n",
       "        vertical-align: top;\n",
       "    }\n",
       "\n",
       "    .dataframe thead th {\n",
       "        text-align: right;\n",
       "    }\n",
       "</style>\n",
       "<table border=\"1\" class=\"dataframe\">\n",
       "  <thead>\n",
       "    <tr style=\"text-align: right;\">\n",
       "      <th></th>\n",
       "      <th>Names</th>\n",
       "      <th>vaccined</th>\n",
       "      <th>country</th>\n",
       "    </tr>\n",
       "  </thead>\n",
       "  <tbody>\n",
       "    <tr>\n",
       "      <th>A</th>\n",
       "      <td>Alan</td>\n",
       "      <td>True</td>\n",
       "      <td>Pakistan</td>\n",
       "    </tr>\n",
       "    <tr>\n",
       "      <th>D</th>\n",
       "      <td>Stacy</td>\n",
       "      <td>True</td>\n",
       "      <td>China</td>\n",
       "    </tr>\n",
       "    <tr>\n",
       "      <th>I</th>\n",
       "      <td>Isiaka</td>\n",
       "      <td>True</td>\n",
       "      <td>Pakistan</td>\n",
       "    </tr>\n",
       "  </tbody>\n",
       "</table>\n",
       "</div>"
      ],
      "text/plain": [
       "    Names vaccined   country\n",
       "A    Alan     True  Pakistan\n",
       "D   Stacy     True     China\n",
       "I  Isiaka     True  Pakistan"
      ]
     },
     "execution_count": 30,
     "metadata": {},
     "output_type": "execute_result"
    }
   ],
   "source": [
    "K"
   ]
  },
  {
   "cell_type": "code",
   "execution_count": 31,
   "id": "aefbe2f9",
   "metadata": {},
   "outputs": [],
   "source": [
    "N = D[D['vaccined']== 'False']"
   ]
  },
  {
   "cell_type": "code",
   "execution_count": 32,
   "id": "4d0bfc4a",
   "metadata": {},
   "outputs": [
    {
     "data": {
      "text/html": [
       "<div>\n",
       "<style scoped>\n",
       "    .dataframe tbody tr th:only-of-type {\n",
       "        vertical-align: middle;\n",
       "    }\n",
       "\n",
       "    .dataframe tbody tr th {\n",
       "        vertical-align: top;\n",
       "    }\n",
       "\n",
       "    .dataframe thead th {\n",
       "        text-align: right;\n",
       "    }\n",
       "</style>\n",
       "<table border=\"1\" class=\"dataframe\">\n",
       "  <thead>\n",
       "    <tr style=\"text-align: right;\">\n",
       "      <th></th>\n",
       "      <th>Names</th>\n",
       "      <th>vaccined</th>\n",
       "      <th>country</th>\n",
       "    </tr>\n",
       "  </thead>\n",
       "  <tbody>\n",
       "    <tr>\n",
       "      <th>B</th>\n",
       "      <td>John</td>\n",
       "      <td>False</td>\n",
       "      <td>China</td>\n",
       "    </tr>\n",
       "    <tr>\n",
       "      <th>C</th>\n",
       "      <td>Cindy</td>\n",
       "      <td>False</td>\n",
       "      <td>Pakistan</td>\n",
       "    </tr>\n",
       "    <tr>\n",
       "      <th>E</th>\n",
       "      <td>Diana</td>\n",
       "      <td>False</td>\n",
       "      <td>China</td>\n",
       "    </tr>\n",
       "  </tbody>\n",
       "</table>\n",
       "</div>"
      ],
      "text/plain": [
       "   Names vaccined   country\n",
       "B   John    False     China\n",
       "C  Cindy    False  Pakistan\n",
       "E  Diana    False     China"
      ]
     },
     "execution_count": 32,
     "metadata": {},
     "output_type": "execute_result"
    }
   ],
   "source": [
    "N"
   ]
  },
  {
   "cell_type": "code",
   "execution_count": 33,
   "id": "97619971",
   "metadata": {},
   "outputs": [],
   "source": [
    "df = pd.DataFrame({'A':np.random.randint(0,13,5),\n",
    "                  'B':np.random.randint(0,13,5),\n",
    "                  'C':np.random.randint(0,13,5)})"
   ]
  },
  {
   "cell_type": "code",
   "execution_count": 34,
   "id": "a235f5a3",
   "metadata": {},
   "outputs": [
    {
     "data": {
      "text/html": [
       "<div>\n",
       "<style scoped>\n",
       "    .dataframe tbody tr th:only-of-type {\n",
       "        vertical-align: middle;\n",
       "    }\n",
       "\n",
       "    .dataframe tbody tr th {\n",
       "        vertical-align: top;\n",
       "    }\n",
       "\n",
       "    .dataframe thead th {\n",
       "        text-align: right;\n",
       "    }\n",
       "</style>\n",
       "<table border=\"1\" class=\"dataframe\">\n",
       "  <thead>\n",
       "    <tr style=\"text-align: right;\">\n",
       "      <th></th>\n",
       "      <th>A</th>\n",
       "      <th>B</th>\n",
       "      <th>C</th>\n",
       "    </tr>\n",
       "  </thead>\n",
       "  <tbody>\n",
       "    <tr>\n",
       "      <th>0</th>\n",
       "      <td>0</td>\n",
       "      <td>2</td>\n",
       "      <td>0</td>\n",
       "    </tr>\n",
       "    <tr>\n",
       "      <th>1</th>\n",
       "      <td>5</td>\n",
       "      <td>5</td>\n",
       "      <td>1</td>\n",
       "    </tr>\n",
       "    <tr>\n",
       "      <th>2</th>\n",
       "      <td>12</td>\n",
       "      <td>4</td>\n",
       "      <td>5</td>\n",
       "    </tr>\n",
       "    <tr>\n",
       "      <th>3</th>\n",
       "      <td>7</td>\n",
       "      <td>9</td>\n",
       "      <td>9</td>\n",
       "    </tr>\n",
       "    <tr>\n",
       "      <th>4</th>\n",
       "      <td>2</td>\n",
       "      <td>2</td>\n",
       "      <td>12</td>\n",
       "    </tr>\n",
       "  </tbody>\n",
       "</table>\n",
       "</div>"
      ],
      "text/plain": [
       "    A  B   C\n",
       "0   0  2   0\n",
       "1   5  5   1\n",
       "2  12  4   5\n",
       "3   7  9   9\n",
       "4   2  2  12"
      ]
     },
     "execution_count": 34,
     "metadata": {},
     "output_type": "execute_result"
    }
   ],
   "source": [
    "df"
   ]
  },
  {
   "cell_type": "code",
   "execution_count": 35,
   "id": "5109692d",
   "metadata": {},
   "outputs": [
    {
     "data": {
      "text/html": [
       "<div>\n",
       "<style scoped>\n",
       "    .dataframe tbody tr th:only-of-type {\n",
       "        vertical-align: middle;\n",
       "    }\n",
       "\n",
       "    .dataframe tbody tr th {\n",
       "        vertical-align: top;\n",
       "    }\n",
       "\n",
       "    .dataframe thead th {\n",
       "        text-align: right;\n",
       "    }\n",
       "</style>\n",
       "<table border=\"1\" class=\"dataframe\">\n",
       "  <thead>\n",
       "    <tr style=\"text-align: right;\">\n",
       "      <th></th>\n",
       "      <th>A</th>\n",
       "      <th>B</th>\n",
       "      <th>C</th>\n",
       "    </tr>\n",
       "  </thead>\n",
       "  <tbody>\n",
       "    <tr>\n",
       "      <th>0</th>\n",
       "      <td>0.0</td>\n",
       "      <td>2.0</td>\n",
       "      <td>0.0</td>\n",
       "    </tr>\n",
       "    <tr>\n",
       "      <th>1</th>\n",
       "      <td>5.0</td>\n",
       "      <td>7.0</td>\n",
       "      <td>1.0</td>\n",
       "    </tr>\n",
       "    <tr>\n",
       "      <th>2</th>\n",
       "      <td>17.0</td>\n",
       "      <td>11.0</td>\n",
       "      <td>6.0</td>\n",
       "    </tr>\n",
       "    <tr>\n",
       "      <th>3</th>\n",
       "      <td>24.0</td>\n",
       "      <td>18.0</td>\n",
       "      <td>15.0</td>\n",
       "    </tr>\n",
       "    <tr>\n",
       "      <th>4</th>\n",
       "      <td>21.0</td>\n",
       "      <td>15.0</td>\n",
       "      <td>26.0</td>\n",
       "    </tr>\n",
       "  </tbody>\n",
       "</table>\n",
       "</div>"
      ],
      "text/plain": [
       "      A     B     C\n",
       "0   0.0   2.0   0.0\n",
       "1   5.0   7.0   1.0\n",
       "2  17.0  11.0   6.0\n",
       "3  24.0  18.0  15.0\n",
       "4  21.0  15.0  26.0"
      ]
     },
     "execution_count": 35,
     "metadata": {},
     "output_type": "execute_result"
    }
   ],
   "source": [
    "df.rolling(3,min_periods=1).sum()"
   ]
  },
  {
   "cell_type": "code",
   "execution_count": 36,
   "id": "7e4af51b",
   "metadata": {},
   "outputs": [
    {
     "data": {
      "text/html": [
       "<div>\n",
       "<style scoped>\n",
       "    .dataframe tbody tr th:only-of-type {\n",
       "        vertical-align: middle;\n",
       "    }\n",
       "\n",
       "    .dataframe tbody tr th {\n",
       "        vertical-align: top;\n",
       "    }\n",
       "\n",
       "    .dataframe thead th {\n",
       "        text-align: right;\n",
       "    }\n",
       "</style>\n",
       "<table border=\"1\" class=\"dataframe\">\n",
       "  <thead>\n",
       "    <tr style=\"text-align: right;\">\n",
       "      <th></th>\n",
       "      <th>A</th>\n",
       "      <th>B</th>\n",
       "      <th>C</th>\n",
       "    </tr>\n",
       "  </thead>\n",
       "  <tbody>\n",
       "    <tr>\n",
       "      <th>0</th>\n",
       "      <td>0.000000</td>\n",
       "      <td>2.000000</td>\n",
       "      <td>0.000000</td>\n",
       "    </tr>\n",
       "    <tr>\n",
       "      <th>1</th>\n",
       "      <td>2.500000</td>\n",
       "      <td>3.500000</td>\n",
       "      <td>0.500000</td>\n",
       "    </tr>\n",
       "    <tr>\n",
       "      <th>2</th>\n",
       "      <td>5.666667</td>\n",
       "      <td>3.666667</td>\n",
       "      <td>2.000000</td>\n",
       "    </tr>\n",
       "    <tr>\n",
       "      <th>3</th>\n",
       "      <td>8.000000</td>\n",
       "      <td>6.000000</td>\n",
       "      <td>5.000000</td>\n",
       "    </tr>\n",
       "    <tr>\n",
       "      <th>4</th>\n",
       "      <td>7.000000</td>\n",
       "      <td>5.000000</td>\n",
       "      <td>8.666667</td>\n",
       "    </tr>\n",
       "  </tbody>\n",
       "</table>\n",
       "</div>"
      ],
      "text/plain": [
       "          A         B         C\n",
       "0  0.000000  2.000000  0.000000\n",
       "1  2.500000  3.500000  0.500000\n",
       "2  5.666667  3.666667  2.000000\n",
       "3  8.000000  6.000000  5.000000\n",
       "4  7.000000  5.000000  8.666667"
      ]
     },
     "execution_count": 36,
     "metadata": {},
     "output_type": "execute_result"
    }
   ],
   "source": [
    "df.rolling(3,min_periods=1).mean()"
   ]
  },
  {
   "cell_type": "code",
   "execution_count": 37,
   "id": "9ebefce4",
   "metadata": {},
   "outputs": [],
   "source": [
    "df = pd.DataFrame(np.random.randint(0,50,(5,10)),\n",
    "                 columns=list('ABCDEFGHIJ'))"
   ]
  },
  {
   "cell_type": "code",
   "execution_count": 38,
   "id": "f51d53a5",
   "metadata": {},
   "outputs": [
    {
     "data": {
      "text/html": [
       "<div>\n",
       "<style scoped>\n",
       "    .dataframe tbody tr th:only-of-type {\n",
       "        vertical-align: middle;\n",
       "    }\n",
       "\n",
       "    .dataframe tbody tr th {\n",
       "        vertical-align: top;\n",
       "    }\n",
       "\n",
       "    .dataframe thead th {\n",
       "        text-align: right;\n",
       "    }\n",
       "</style>\n",
       "<table border=\"1\" class=\"dataframe\">\n",
       "  <thead>\n",
       "    <tr style=\"text-align: right;\">\n",
       "      <th></th>\n",
       "      <th>A</th>\n",
       "      <th>B</th>\n",
       "      <th>C</th>\n",
       "      <th>D</th>\n",
       "      <th>E</th>\n",
       "      <th>F</th>\n",
       "      <th>G</th>\n",
       "      <th>H</th>\n",
       "      <th>I</th>\n",
       "      <th>J</th>\n",
       "    </tr>\n",
       "  </thead>\n",
       "  <tbody>\n",
       "    <tr>\n",
       "      <th>0</th>\n",
       "      <td>34</td>\n",
       "      <td>36</td>\n",
       "      <td>10</td>\n",
       "      <td>46</td>\n",
       "      <td>0</td>\n",
       "      <td>47</td>\n",
       "      <td>28</td>\n",
       "      <td>7</td>\n",
       "      <td>21</td>\n",
       "      <td>38</td>\n",
       "    </tr>\n",
       "    <tr>\n",
       "      <th>1</th>\n",
       "      <td>47</td>\n",
       "      <td>17</td>\n",
       "      <td>21</td>\n",
       "      <td>0</td>\n",
       "      <td>44</td>\n",
       "      <td>0</td>\n",
       "      <td>3</td>\n",
       "      <td>23</td>\n",
       "      <td>29</td>\n",
       "      <td>7</td>\n",
       "    </tr>\n",
       "    <tr>\n",
       "      <th>2</th>\n",
       "      <td>48</td>\n",
       "      <td>15</td>\n",
       "      <td>25</td>\n",
       "      <td>24</td>\n",
       "      <td>29</td>\n",
       "      <td>17</td>\n",
       "      <td>17</td>\n",
       "      <td>12</td>\n",
       "      <td>36</td>\n",
       "      <td>49</td>\n",
       "    </tr>\n",
       "    <tr>\n",
       "      <th>3</th>\n",
       "      <td>16</td>\n",
       "      <td>10</td>\n",
       "      <td>4</td>\n",
       "      <td>43</td>\n",
       "      <td>35</td>\n",
       "      <td>3</td>\n",
       "      <td>21</td>\n",
       "      <td>47</td>\n",
       "      <td>24</td>\n",
       "      <td>10</td>\n",
       "    </tr>\n",
       "    <tr>\n",
       "      <th>4</th>\n",
       "      <td>23</td>\n",
       "      <td>22</td>\n",
       "      <td>9</td>\n",
       "      <td>35</td>\n",
       "      <td>36</td>\n",
       "      <td>25</td>\n",
       "      <td>27</td>\n",
       "      <td>47</td>\n",
       "      <td>22</td>\n",
       "      <td>37</td>\n",
       "    </tr>\n",
       "  </tbody>\n",
       "</table>\n",
       "</div>"
      ],
      "text/plain": [
       "    A   B   C   D   E   F   G   H   I   J\n",
       "0  34  36  10  46   0  47  28   7  21  38\n",
       "1  47  17  21   0  44   0   3  23  29   7\n",
       "2  48  15  25  24  29  17  17  12  36  49\n",
       "3  16  10   4  43  35   3  21  47  24  10\n",
       "4  23  22   9  35  36  25  27  47  22  37"
      ]
     },
     "execution_count": 38,
     "metadata": {},
     "output_type": "execute_result"
    }
   ],
   "source": [
    "df"
   ]
  },
  {
   "cell_type": "code",
   "execution_count": 39,
   "id": "ba8b1cdd",
   "metadata": {},
   "outputs": [],
   "source": [
    "df1= df.where((df>10), 10)\n",
    "df1 = df.where((df<30), 30)"
   ]
  },
  {
   "cell_type": "code",
   "execution_count": 40,
   "id": "ae8cac01",
   "metadata": {},
   "outputs": [
    {
     "data": {
      "text/html": [
       "<div>\n",
       "<style scoped>\n",
       "    .dataframe tbody tr th:only-of-type {\n",
       "        vertical-align: middle;\n",
       "    }\n",
       "\n",
       "    .dataframe tbody tr th {\n",
       "        vertical-align: top;\n",
       "    }\n",
       "\n",
       "    .dataframe thead th {\n",
       "        text-align: right;\n",
       "    }\n",
       "</style>\n",
       "<table border=\"1\" class=\"dataframe\">\n",
       "  <thead>\n",
       "    <tr style=\"text-align: right;\">\n",
       "      <th></th>\n",
       "      <th>A</th>\n",
       "      <th>B</th>\n",
       "      <th>C</th>\n",
       "      <th>D</th>\n",
       "      <th>E</th>\n",
       "      <th>F</th>\n",
       "      <th>G</th>\n",
       "      <th>H</th>\n",
       "      <th>I</th>\n",
       "      <th>J</th>\n",
       "    </tr>\n",
       "  </thead>\n",
       "  <tbody>\n",
       "    <tr>\n",
       "      <th>0</th>\n",
       "      <td>30</td>\n",
       "      <td>30</td>\n",
       "      <td>10</td>\n",
       "      <td>30</td>\n",
       "      <td>0</td>\n",
       "      <td>30</td>\n",
       "      <td>28</td>\n",
       "      <td>7</td>\n",
       "      <td>21</td>\n",
       "      <td>30</td>\n",
       "    </tr>\n",
       "    <tr>\n",
       "      <th>1</th>\n",
       "      <td>30</td>\n",
       "      <td>17</td>\n",
       "      <td>21</td>\n",
       "      <td>0</td>\n",
       "      <td>30</td>\n",
       "      <td>0</td>\n",
       "      <td>3</td>\n",
       "      <td>23</td>\n",
       "      <td>29</td>\n",
       "      <td>7</td>\n",
       "    </tr>\n",
       "    <tr>\n",
       "      <th>2</th>\n",
       "      <td>30</td>\n",
       "      <td>15</td>\n",
       "      <td>25</td>\n",
       "      <td>24</td>\n",
       "      <td>29</td>\n",
       "      <td>17</td>\n",
       "      <td>17</td>\n",
       "      <td>12</td>\n",
       "      <td>30</td>\n",
       "      <td>30</td>\n",
       "    </tr>\n",
       "    <tr>\n",
       "      <th>3</th>\n",
       "      <td>16</td>\n",
       "      <td>10</td>\n",
       "      <td>4</td>\n",
       "      <td>30</td>\n",
       "      <td>30</td>\n",
       "      <td>3</td>\n",
       "      <td>21</td>\n",
       "      <td>30</td>\n",
       "      <td>24</td>\n",
       "      <td>10</td>\n",
       "    </tr>\n",
       "    <tr>\n",
       "      <th>4</th>\n",
       "      <td>23</td>\n",
       "      <td>22</td>\n",
       "      <td>9</td>\n",
       "      <td>30</td>\n",
       "      <td>30</td>\n",
       "      <td>25</td>\n",
       "      <td>27</td>\n",
       "      <td>30</td>\n",
       "      <td>22</td>\n",
       "      <td>30</td>\n",
       "    </tr>\n",
       "  </tbody>\n",
       "</table>\n",
       "</div>"
      ],
      "text/plain": [
       "    A   B   C   D   E   F   G   H   I   J\n",
       "0  30  30  10  30   0  30  28   7  21  30\n",
       "1  30  17  21   0  30   0   3  23  29   7\n",
       "2  30  15  25  24  29  17  17  12  30  30\n",
       "3  16  10   4  30  30   3  21  30  24  10\n",
       "4  23  22   9  30  30  25  27  30  22  30"
      ]
     },
     "execution_count": 40,
     "metadata": {},
     "output_type": "execute_result"
    }
   ],
   "source": [
    "df1"
   ]
  },
  {
   "cell_type": "code",
   "execution_count": 41,
   "id": "3abc66b2",
   "metadata": {},
   "outputs": [],
   "source": [
    "df = pd.DataFrame({'Name':['Anna','Stuart','Alex','Nancy','Robert'],\n",
    "                   'Subject1':['English','Maths','Geography','English','Maths']})"
   ]
  },
  {
   "cell_type": "code",
   "execution_count": 42,
   "id": "1ae4f6a1",
   "metadata": {},
   "outputs": [
    {
     "data": {
      "text/html": [
       "<div>\n",
       "<style scoped>\n",
       "    .dataframe tbody tr th:only-of-type {\n",
       "        vertical-align: middle;\n",
       "    }\n",
       "\n",
       "    .dataframe tbody tr th {\n",
       "        vertical-align: top;\n",
       "    }\n",
       "\n",
       "    .dataframe thead th {\n",
       "        text-align: right;\n",
       "    }\n",
       "</style>\n",
       "<table border=\"1\" class=\"dataframe\">\n",
       "  <thead>\n",
       "    <tr style=\"text-align: right;\">\n",
       "      <th></th>\n",
       "      <th>Name</th>\n",
       "      <th>Subject1</th>\n",
       "    </tr>\n",
       "  </thead>\n",
       "  <tbody>\n",
       "    <tr>\n",
       "      <th>0</th>\n",
       "      <td>Anna</td>\n",
       "      <td>English</td>\n",
       "    </tr>\n",
       "    <tr>\n",
       "      <th>1</th>\n",
       "      <td>Stuart</td>\n",
       "      <td>Maths</td>\n",
       "    </tr>\n",
       "    <tr>\n",
       "      <th>2</th>\n",
       "      <td>Alex</td>\n",
       "      <td>Geography</td>\n",
       "    </tr>\n",
       "    <tr>\n",
       "      <th>3</th>\n",
       "      <td>Nancy</td>\n",
       "      <td>English</td>\n",
       "    </tr>\n",
       "    <tr>\n",
       "      <th>4</th>\n",
       "      <td>Robert</td>\n",
       "      <td>Maths</td>\n",
       "    </tr>\n",
       "  </tbody>\n",
       "</table>\n",
       "</div>"
      ],
      "text/plain": [
       "     Name   Subject1\n",
       "0    Anna    English\n",
       "1  Stuart      Maths\n",
       "2    Alex  Geography\n",
       "3   Nancy    English\n",
       "4  Robert      Maths"
      ]
     },
     "execution_count": 42,
     "metadata": {},
     "output_type": "execute_result"
    }
   ],
   "source": [
    "df"
   ]
  },
  {
   "cell_type": "code",
   "execution_count": 43,
   "id": "d5f2c7f3",
   "metadata": {},
   "outputs": [],
   "source": [
    "df1 = pd.DataFrame({'Name':['Alex','Robert','Anna','Stuart','Nancy'],\n",
    "                   'Subject2':['Electronics','Maths','Geography','English','Computer']})"
   ]
  },
  {
   "cell_type": "code",
   "execution_count": 44,
   "id": "97837dc0",
   "metadata": {},
   "outputs": [
    {
     "data": {
      "text/html": [
       "<div>\n",
       "<style scoped>\n",
       "    .dataframe tbody tr th:only-of-type {\n",
       "        vertical-align: middle;\n",
       "    }\n",
       "\n",
       "    .dataframe tbody tr th {\n",
       "        vertical-align: top;\n",
       "    }\n",
       "\n",
       "    .dataframe thead th {\n",
       "        text-align: right;\n",
       "    }\n",
       "</style>\n",
       "<table border=\"1\" class=\"dataframe\">\n",
       "  <thead>\n",
       "    <tr style=\"text-align: right;\">\n",
       "      <th></th>\n",
       "      <th>Name</th>\n",
       "      <th>Subject2</th>\n",
       "    </tr>\n",
       "  </thead>\n",
       "  <tbody>\n",
       "    <tr>\n",
       "      <th>0</th>\n",
       "      <td>Alex</td>\n",
       "      <td>Electronics</td>\n",
       "    </tr>\n",
       "    <tr>\n",
       "      <th>1</th>\n",
       "      <td>Robert</td>\n",
       "      <td>Maths</td>\n",
       "    </tr>\n",
       "    <tr>\n",
       "      <th>2</th>\n",
       "      <td>Anna</td>\n",
       "      <td>Geography</td>\n",
       "    </tr>\n",
       "    <tr>\n",
       "      <th>3</th>\n",
       "      <td>Stuart</td>\n",
       "      <td>English</td>\n",
       "    </tr>\n",
       "    <tr>\n",
       "      <th>4</th>\n",
       "      <td>Nancy</td>\n",
       "      <td>Computer</td>\n",
       "    </tr>\n",
       "  </tbody>\n",
       "</table>\n",
       "</div>"
      ],
      "text/plain": [
       "     Name     Subject2\n",
       "0    Alex  Electronics\n",
       "1  Robert        Maths\n",
       "2    Anna    Geography\n",
       "3  Stuart      English\n",
       "4   Nancy     Computer"
      ]
     },
     "execution_count": 44,
     "metadata": {},
     "output_type": "execute_result"
    }
   ],
   "source": [
    "df1"
   ]
  },
  {
   "cell_type": "code",
   "execution_count": 45,
   "id": "cc085ada",
   "metadata": {},
   "outputs": [],
   "source": [
    "df2 = pd.merge(df,df1)"
   ]
  },
  {
   "cell_type": "markdown",
   "id": "b8ffb217",
   "metadata": {},
   "source": [
    "df2"
   ]
  },
  {
   "cell_type": "code",
   "execution_count": 46,
   "id": "374d7911",
   "metadata": {},
   "outputs": [
    {
     "data": {
      "text/html": [
       "<div>\n",
       "<style scoped>\n",
       "    .dataframe tbody tr th:only-of-type {\n",
       "        vertical-align: middle;\n",
       "    }\n",
       "\n",
       "    .dataframe tbody tr th {\n",
       "        vertical-align: top;\n",
       "    }\n",
       "\n",
       "    .dataframe thead th {\n",
       "        text-align: right;\n",
       "    }\n",
       "</style>\n",
       "<table border=\"1\" class=\"dataframe\">\n",
       "  <thead>\n",
       "    <tr style=\"text-align: right;\">\n",
       "      <th></th>\n",
       "      <th>Name</th>\n",
       "      <th>Subject1</th>\n",
       "      <th>Subject2</th>\n",
       "    </tr>\n",
       "  </thead>\n",
       "  <tbody>\n",
       "    <tr>\n",
       "      <th>0</th>\n",
       "      <td>Anna</td>\n",
       "      <td>English</td>\n",
       "      <td>Geography</td>\n",
       "    </tr>\n",
       "    <tr>\n",
       "      <th>1</th>\n",
       "      <td>Stuart</td>\n",
       "      <td>Maths</td>\n",
       "      <td>English</td>\n",
       "    </tr>\n",
       "    <tr>\n",
       "      <th>2</th>\n",
       "      <td>Alex</td>\n",
       "      <td>Geography</td>\n",
       "      <td>Electronics</td>\n",
       "    </tr>\n",
       "    <tr>\n",
       "      <th>3</th>\n",
       "      <td>Nancy</td>\n",
       "      <td>English</td>\n",
       "      <td>Computer</td>\n",
       "    </tr>\n",
       "    <tr>\n",
       "      <th>4</th>\n",
       "      <td>Robert</td>\n",
       "      <td>Maths</td>\n",
       "      <td>Maths</td>\n",
       "    </tr>\n",
       "  </tbody>\n",
       "</table>\n",
       "</div>"
      ],
      "text/plain": [
       "     Name   Subject1     Subject2\n",
       "0    Anna    English    Geography\n",
       "1  Stuart      Maths      English\n",
       "2    Alex  Geography  Electronics\n",
       "3   Nancy    English     Computer\n",
       "4  Robert      Maths        Maths"
      ]
     },
     "execution_count": 46,
     "metadata": {},
     "output_type": "execute_result"
    }
   ],
   "source": [
    "df2"
   ]
  },
  {
   "cell_type": "code",
   "execution_count": 47,
   "id": "0f2a1f1a",
   "metadata": {},
   "outputs": [],
   "source": [
    "import matplotlib.pyplot as plt"
   ]
  },
  {
   "cell_type": "code",
   "execution_count": 48,
   "id": "4de0a7a7",
   "metadata": {},
   "outputs": [
    {
     "data": {
      "image/png": "[encoded data removed]",
      "text/plain": [
       "<Figure size 432x288 with 1 Axes>"
      ]
     },
     "metadata": {
      "needs_background": "light"
     },
     "output_type": "display_data"
    }
   ],
   "source": [
    "plt.style.use('seaborn-talk')\n",
    "fig = plt.figure(figsize=(6,4))\n",
    "#ax = plt.axes()\n",
    "x = np.linspace(0,20,1500)\n",
    "y = np.cos(x)\n",
    "plt.xlim(1,14)\n",
    "plt.ylim(1.2,-1)\n",
    "#fig = plt.figure(figsize=(4,3))\n",
    "#ax = plt.axes()\n",
    "plt.plot(x,y,color='orange',linestyle='dashed')\n",
    "#ax.set(xlim=(1,14),ylim=(1.2,-1),xlabel='X values',ylabel='Y values', title=\"Sin-Cos-Curves\")\n",
    "plt.show()"
   ]
  },
  {
   "cell_type": "code",
   "execution_count": 49,
   "id": "1462588e",
   "metadata": {},
   "outputs": [
    {
     "data": {
      "image/png": "[encoded data removed]",
      "text/plain": [
       "<Figure size 432x288 with 1 Axes>"
      ]
     },
     "metadata": {},
     "output_type": "display_data"
    }
   ],
   "source": [
    "plt.style.use('seaborn')\n",
    "fig = plt.figure(figsize=(6,4))\n",
    "ax = plt.axes()\n",
    "x = np.linspace(0,20,1500)\n",
    "y = np.cos(x)\n",
    "ax.plot(x,y,color='orange',linestyle='dashed')\n",
    "ax.set(xlim=(1,14),ylim=(1.2,-1),xlabel='X values',ylabel='Y values', title=\"Sin-Cos-Curves\")\n",
    "plt.show()"
   ]
  },
  {
   "cell_type": "code",
   "execution_count": 50,
   "id": "e3661475",
   "metadata": {},
   "outputs": [
    {
     "data": {
      "text/plain": [
       "<matplotlib.colorbar.Colorbar at 0x28094c3f610>"
      ]
     },
     "execution_count": 50,
     "metadata": {},
     "output_type": "execute_result"
    },
    {
     "data": {
      "image/png": "[encoded data removed]",
      "text/plain": [
       "<Figure size 576x396 with 2 Axes>"
      ]
     },
     "metadata": {},
     "output_type": "display_data"
    }
   ],
   "source": [
    "x = np.linspace(5,10,50)\n",
    "y = np.linspace(5,10,80)\n",
    "X,Y = np.meshgrid(x,y)\n",
    "Z = X+(3*Y)*9*X\n",
    "plt.contourf(X,Y,Z,40,cmap='inferno')\n",
    "plt.colorbar()"
   ]
  },
  {
   "cell_type": "code",
   "execution_count": 51,
   "id": "ac100756",
   "metadata": {},
   "outputs": [
    {
     "data": {
      "text/plain": [
       "<matplotlib.colorbar.Colorbar at 0x28095d55700>"
      ]
     },
     "execution_count": 51,
     "metadata": {},
     "output_type": "execute_result"
    },
    {
     "data": {
      "image/png": "[encoded data removed]",
      "text/plain": [
       "<Figure size 576x396 with 2 Axes>"
      ]
     },
     "metadata": {},
     "output_type": "display_data"
    }
   ],
   "source": [
    "X,Y = np.meshgrid(np.linspace(5,10,50),np.linspace(5,10,80))\n",
    "Z = X*(3*Y)*9*X\n",
    "plt.contourf(X,Y,Z,40,cmap='inferno_r')\n",
    "plt.colorbar()"
   ]
  },
  {
   "cell_type": "code",
   "execution_count": 52,
   "id": "4e880451",
   "metadata": {},
   "outputs": [],
   "source": [
    "from sklearn.datasets import fetch_lfw_people\n",
    "faces = fetch_lfw_people(min_faces_per_person=70)"
   ]
  },
  {
   "cell_type": "code",
   "execution_count": 53,
   "id": "adad570a",
   "metadata": {},
   "outputs": [
    {
     "data": {
      "text/plain": [
       "<matplotlib.image.AxesImage at 0x28096fcb9d0>"
      ]
     },
     "execution_count": 53,
     "metadata": {},
     "output_type": "execute_result"
    },
    {
     "data": {
      "image/png": "[encoded data removed]",
      "text/plain": [
       "<Figure size 576x396 with 1 Axes>"
      ]
     },
     "metadata": {},
     "output_type": "display_data"
    }
   ],
   "source": [
    "plt.imshow(faces.images[3],cmap='bone' )"
   ]
  },
  {
   "cell_type": "code",
   "execution_count": 55,
   "id": "2f7ef54d",
   "metadata": {},
   "outputs": [
    {
     "data": {
      "image/png": "[encoded data removed]",
      "text/plain": [
       "<Figure size 288x216 with 8 Axes>"
      ]
     },
     "metadata": {},
     "output_type": "display_data"
    }
   ],
   "source": [
    "fig,ax = plt.subplots(2,4,figsize=(4,3),sharex='col',sharey='row')\n",
    "k = 0\n",
    "for i in range(2):\n",
    "    for j in range(4):\n",
    "        ax[i,j].imshow(np.random.rand(250,250),cmap='coolwarm')\n",
    "        ax[i,j].set(xticks=[],yticks=[])\n",
    "        k+=1"
   ]
  },
  {
   "cell_type": "code",
   "execution_count": 56,
   "id": "f2fd876f",
   "metadata": {},
   "outputs": [],
   "source": [
    "from mpl_toolkits.mplot3d import Axes3D"
   ]
  },
  {
   "cell_type": "code",
   "execution_count": 57,
   "id": "d2b89725",
   "metadata": {},
   "outputs": [
    {
     "name": "stderr",
     "output_type": "stream",
     "text": [
      "C:\\Users\\User\\AppData\\Local\\Temp/ipykernel_12936/1846383020.py:2: MatplotlibDeprecationWarning: Calling gca() with keyword arguments was deprecated in Matplotlib 3.4. Starting two minor releases later, gca() will take no keyword arguments. The gca() function should only be used to get the current axes, or if no axes exist, create new axes with default keyword arguments. To create a new axes with non-default arguments, use plt.axes() or plt.subplot().\n",
      "  ax = fig.gca(projection='3d')\n"
     ]
    },
    {
     "data": {
      "text/plain": [
       "<mpl_toolkits.mplot3d.art3d.Path3DCollection at 0x28097f3a0d0>"
      ]
     },
     "execution_count": 57,
     "metadata": {},
     "output_type": "execute_result"
    },
    {
     "data": {
      "image/png": "[encoded data removed]",
      "text/plain": [
       "<Figure size 288x216 with 1 Axes>"
      ]
     },
     "metadata": {},
     "output_type": "display_data"
    }
   ],
   "source": [
    "fig = plt.figure(figsize=(4,3))\n",
    "ax = fig.gca(projection='3d')\n",
    "X = np.random.normal(0,5,50)\n",
    "Y = np.random.normal(0,5,50)\n",
    "Z = np.random.normal(0,5,50)\n",
    "ax.scatter(X,Y,Z, c='g',marker='.', alpha=0.7)\n",
    "X = np.random.normal(10,9,70)\n",
    "Y = np.random.normal(10,9,70)\n",
    "Z = np.random.normal(10,9,70)\n",
    "ax.scatter(X,Y,Z, c='y',marker='+', alpha=0.7)"
   ]
  },
  {
   "cell_type": "code",
   "execution_count": null,
   "id": "6696d488",
   "metadata": {},
   "outputs": [],
   "source": []
  }
 ],
 "metadata": {
  "kernelspec": {
   "display_name": "Python 3 (ipykernel)",
   "language": "python",
   "name": "python3"
  },
  "language_info": {
   "codemirror_mode": {
    "name": "ipython",
    "version": 3
   },
   "file_extension": ".py",
   "mimetype": "text/x-python",
   "name": "python",
   "nbconvert_exporter": "python",
   "pygments_lexer": "ipython3",
   "version": "3.9.7"
  }
 },
 "nbformat": 4,
 "nbformat_minor": 5
}
