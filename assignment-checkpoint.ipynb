{
 "cells": [
  {
   "cell_type": "code",
   "execution_count": 1,
   "id": "6181d6ec",
   "metadata": {},
   "outputs": [],
   "source": [
    "import numpy as np"
   ]
  },
  {
   "cell_type": "code",
   "execution_count": 2,
   "id": "978b7e53",
   "metadata": {},
   "outputs": [],
   "source": [
    "myArray1 = np.random.rand(50)"
   ]
  },
  {
   "cell_type": "code",
   "execution_count": 3,
   "id": "9a832290",
   "metadata": {},
   "outputs": [
    {
     "data": {
      "text/plain": [
       "array([0.17565828, 0.24910482, 0.04938233, 0.89637791, 0.77580414,\n",
       "       0.1373156 , 0.42676528, 0.9659143 , 0.38912486, 0.41012107,\n",
       "       0.87373066, 0.66940069, 0.01266645, 0.8594707 , 0.20334564,\n",
       "       0.5582566 , 0.36773622, 0.12704246, 0.34936671, 0.36460261,\n",
       "       0.84306015, 0.27037621, 0.44740493, 0.16031416, 0.34963241,\n",
       "       0.90389398, 0.58289728, 0.80834815, 0.97742981, 0.96123213,\n",
       "       0.14146812, 0.17504493, 0.99719333, 0.05974147, 0.53663522,\n",
       "       0.96094416, 0.84000156, 0.29310085, 0.45419733, 0.83413299,\n",
       "       0.19292894, 0.32529362, 0.84781964, 0.51009051, 0.88668771,\n",
       "       0.21057037, 0.80459377, 0.69069962, 0.45958625, 0.20208238])"
      ]
     },
     "execution_count": 3,
     "metadata": {},
     "output_type": "execute_result"
    }
   ],
   "source": [
    "myArray1"
   ]
  },
  {
   "cell_type": "code",
   "execution_count": 4,
   "id": "efb9e1a0",
   "metadata": {},
   "outputs": [],
   "source": [
    "myArray1 = 10*np.random.rand(50)"
   ]
  },
  {
   "cell_type": "code",
   "execution_count": 5,
   "id": "cd1d964f",
   "metadata": {},
   "outputs": [
    {
     "data": {
      "text/plain": [
       "array([4.25221297, 7.07775568, 5.47267523, 8.69157075, 5.11176832,\n",
       "       5.66803675, 0.09225584, 4.38050461, 7.56969904, 3.02070015,\n",
       "       5.85886999, 9.41577072, 8.02152309, 4.9550313 , 4.55769238,\n",
       "       1.3059769 , 6.12762665, 4.39969716, 8.77185452, 8.04688975,\n",
       "       3.98688799, 3.6945464 , 1.04643958, 1.7963101 , 5.07513684,\n",
       "       6.09336084, 6.42311318, 7.4706374 , 7.75478948, 8.53216839,\n",
       "       7.26545967, 1.07187356, 4.45152261, 1.06013483, 7.82229391,\n",
       "       2.35474205, 0.45700189, 2.75749118, 7.78921711, 9.69200984,\n",
       "       2.31861338, 3.60845985, 8.11807802, 2.32164178, 7.54362572,\n",
       "       7.2921425 , 2.72802451, 0.78828982, 8.5309811 , 4.39406709])"
      ]
     },
     "execution_count": 5,
     "metadata": {},
     "output_type": "execute_result"
    }
   ],
   "source": [
    "myArray1"
   ]
  },
  {
   "cell_type": "code",
   "execution_count": 6,
   "id": "00604fd6",
   "metadata": {},
   "outputs": [
    {
     "data": {
      "text/plain": [
       "array([4., 7., 5., 8., 5., 5., 0., 4., 7., 3., 5., 9., 8., 4., 4., 1., 6.,\n",
       "       4., 8., 8., 3., 3., 1., 1., 5., 6., 6., 7., 7., 8., 7., 1., 4., 1.,\n",
       "       7., 2., 0., 2., 7., 9., 2., 3., 8., 2., 7., 7., 2., 0., 8., 4.])"
      ]
     },
     "execution_count": 6,
     "metadata": {},
     "output_type": "execute_result"
    }
   ],
   "source": [
    "np.floor(myArray1)"
   ]
  },
  {
   "cell_type": "code",
   "execution_count": 7,
   "id": "83eb4b93",
   "metadata": {},
   "outputs": [],
   "source": [
    "\n",
    "myArray2 = myArray1 > 5"
   ]
  },
  {
   "cell_type": "code",
   "execution_count": 8,
   "id": "59ce8f08",
   "metadata": {},
   "outputs": [
    {
     "data": {
      "text/plain": [
       "array([False,  True,  True,  True,  True,  True, False, False,  True,\n",
       "       False,  True,  True,  True, False, False, False,  True, False,\n",
       "        True,  True, False, False, False, False,  True,  True,  True,\n",
       "        True,  True,  True,  True, False, False, False,  True, False,\n",
       "       False, False,  True,  True, False, False,  True, False,  True,\n",
       "        True, False, False,  True, False])"
      ]
     },
     "execution_count": 8,
     "metadata": {},
     "output_type": "execute_result"
    }
   ],
   "source": [
    "myArray2"
   ]
  },
  {
   "cell_type": "code",
   "execution_count": 9,
   "id": "fb150605",
   "metadata": {},
   "outputs": [],
   "source": [
    "myArray2 = myArray1[myArray1 > 5]"
   ]
  },
  {
   "cell_type": "code",
   "execution_count": 10,
   "id": "e0232b02",
   "metadata": {},
   "outputs": [
    {
     "data": {
      "text/plain": [
       "array([7.07775568, 5.47267523, 8.69157075, 5.11176832, 5.66803675,\n",
       "       7.56969904, 5.85886999, 9.41577072, 8.02152309, 6.12762665,\n",
       "       8.77185452, 8.04688975, 5.07513684, 6.09336084, 6.42311318,\n",
       "       7.4706374 , 7.75478948, 8.53216839, 7.26545967, 7.82229391,\n",
       "       7.78921711, 9.69200984, 8.11807802, 7.54362572, 7.2921425 ,\n",
       "       8.5309811 ])"
      ]
     },
     "execution_count": 10,
     "metadata": {},
     "output_type": "execute_result"
    }
   ],
   "source": [
    "myArray2"
   ]
  },
  {
   "cell_type": "code",
   "execution_count": 11,
   "id": "c6a2176d",
   "metadata": {},
   "outputs": [],
   "source": [
    "myArray2.sort()"
   ]
  },
  {
   "cell_type": "code",
   "execution_count": 12,
   "id": "3b25f62c",
   "metadata": {},
   "outputs": [
    {
     "data": {
      "text/plain": [
       "array([5.07513684, 5.11176832, 5.47267523, 5.66803675, 5.85886999,\n",
       "       6.09336084, 6.12762665, 6.42311318, 7.07775568, 7.26545967,\n",
       "       7.2921425 , 7.4706374 , 7.54362572, 7.56969904, 7.75478948,\n",
       "       7.78921711, 7.82229391, 8.02152309, 8.04688975, 8.11807802,\n",
       "       8.5309811 , 8.53216839, 8.69157075, 8.77185452, 9.41577072,\n",
       "       9.69200984])"
      ]
     },
     "execution_count": 12,
     "metadata": {},
     "output_type": "execute_result"
    }
   ],
   "source": [
    "myArray2"
   ]
  },
  {
   "cell_type": "code",
   "execution_count": 13,
   "id": "c7a21d8f",
   "metadata": {},
   "outputs": [
    {
     "data": {
      "text/plain": [
       "array([5.07513684, 5.11176832, 5.47267523, 5.66803675, 5.85886999,\n",
       "       6.09336084, 6.12762665, 6.42311318, 7.07775568, 7.26545967,\n",
       "       7.2921425 , 7.4706374 , 7.54362572, 7.56969904, 7.75478948,\n",
       "       7.78921711, 7.82229391, 8.02152309, 8.04688975, 8.11807802,\n",
       "       8.5309811 , 8.53216839, 8.69157075, 8.77185452, 9.41577072,\n",
       "       9.69200984])"
      ]
     },
     "execution_count": 13,
     "metadata": {},
     "output_type": "execute_result"
    }
   ],
   "source": [
    "np.sort(myArray2)"
   ]
  },
  {
   "cell_type": "code",
   "execution_count": 14,
   "id": "4ad72fc2",
   "metadata": {},
   "outputs": [],
   "source": [
    "myArray1.sort()"
   ]
  },
  {
   "cell_type": "code",
   "execution_count": 15,
   "id": "5c88fb6b",
   "metadata": {},
   "outputs": [],
   "source": [
    "myArray1 = myArray1[::-1]"
   ]
  },
  {
   "cell_type": "code",
   "execution_count": 16,
   "id": "8aa468b8",
   "metadata": {},
   "outputs": [
    {
     "data": {
      "text/plain": [
       "array([9.69200984, 9.41577072, 8.77185452, 8.69157075, 8.53216839,\n",
       "       8.5309811 , 8.11807802, 8.04688975, 8.02152309, 7.82229391,\n",
       "       7.78921711, 7.75478948, 7.56969904, 7.54362572, 7.4706374 ,\n",
       "       7.2921425 , 7.26545967, 7.07775568, 6.42311318, 6.12762665,\n",
       "       6.09336084, 5.85886999, 5.66803675, 5.47267523, 5.11176832,\n",
       "       5.07513684, 4.9550313 , 4.55769238, 4.45152261, 4.39969716,\n",
       "       4.39406709, 4.38050461, 4.25221297, 3.98688799, 3.6945464 ,\n",
       "       3.60845985, 3.02070015, 2.75749118, 2.72802451, 2.35474205,\n",
       "       2.32164178, 2.31861338, 1.7963101 , 1.3059769 , 1.07187356,\n",
       "       1.06013483, 1.04643958, 0.78828982, 0.45700189, 0.09225584])"
      ]
     },
     "execution_count": 16,
     "metadata": {},
     "output_type": "execute_result"
    }
   ],
   "source": [
    "myArray1"
   ]
  },
  {
   "cell_type": "code",
   "execution_count": 17,
   "id": "c77de3a1",
   "metadata": {},
   "outputs": [
    {
     "data": {
      "text/plain": [
       "array([0.09225584, 0.45700189, 0.78828982, 1.04643958, 1.06013483,\n",
       "       1.07187356, 1.3059769 , 1.7963101 , 2.31861338, 2.32164178,\n",
       "       2.35474205, 2.72802451, 2.75749118, 3.02070015, 3.60845985,\n",
       "       3.6945464 , 3.98688799, 4.25221297, 4.38050461, 4.39406709,\n",
       "       4.39969716, 4.45152261, 4.55769238, 4.9550313 , 5.07513684,\n",
       "       5.11176832, 5.47267523, 5.66803675, 5.85886999, 6.09336084,\n",
       "       6.12762665, 6.42311318, 7.07775568, 7.26545967, 7.2921425 ,\n",
       "       7.4706374 , 7.54362572, 7.56969904, 7.75478948, 7.78921711,\n",
       "       7.82229391, 8.02152309, 8.04688975, 8.11807802, 8.5309811 ,\n",
       "       8.53216839, 8.69157075, 8.77185452, 9.41577072, 9.69200984])"
      ]
     },
     "execution_count": 17,
     "metadata": {},
     "output_type": "execute_result"
    }
   ],
   "source": [
    "np.sort(myArray1)"
   ]
  },
  {
   "cell_type": "code",
   "execution_count": 18,
   "id": "5062567d",
   "metadata": {},
   "outputs": [],
   "source": [
    "array3 = np.sort(myArray1)"
   ]
  },
  {
   "cell_type": "code",
   "execution_count": 19,
   "id": "3674c0ee",
   "metadata": {},
   "outputs": [],
   "source": [
    "array3 = array3[::-1]"
   ]
  },
  {
   "cell_type": "code",
   "execution_count": 20,
   "id": "858c2c7f",
   "metadata": {},
   "outputs": [
    {
     "data": {
      "text/plain": [
       "array([9.69200984, 9.41577072, 8.77185452, 8.69157075, 8.53216839,\n",
       "       8.5309811 , 8.11807802, 8.04688975, 8.02152309, 7.82229391,\n",
       "       7.78921711, 7.75478948, 7.56969904, 7.54362572, 7.4706374 ,\n",
       "       7.2921425 , 7.26545967, 7.07775568, 6.42311318, 6.12762665,\n",
       "       6.09336084, 5.85886999, 5.66803675, 5.47267523, 5.11176832,\n",
       "       5.07513684, 4.9550313 , 4.55769238, 4.45152261, 4.39969716,\n",
       "       4.39406709, 4.38050461, 4.25221297, 3.98688799, 3.6945464 ,\n",
       "       3.60845985, 3.02070015, 2.75749118, 2.72802451, 2.35474205,\n",
       "       2.32164178, 2.31861338, 1.7963101 , 1.3059769 , 1.07187356,\n",
       "       1.06013483, 1.04643958, 0.78828982, 0.45700189, 0.09225584])"
      ]
     },
     "execution_count": 20,
     "metadata": {},
     "output_type": "execute_result"
    }
   ],
   "source": [
    "array3"
   ]
  },
  {
   "cell_type": "code",
   "execution_count": 21,
   "id": "e052750a",
   "metadata": {},
   "outputs": [],
   "source": [
    "x = np.array([('Permanent',31,'1990',5000),('Non-Permanent',24,'1997',25000),('Permanent',36,'1985',50000)],\n",
    "               dtype = [('EmployeeType', 'U20'),('Age','i8'),('BirthYear','U10'),('Salary', 'i8')])"
   ]
  },
  {
   "cell_type": "code",
   "execution_count": 22,
   "id": "275148b9",
   "metadata": {},
   "outputs": [
    {
     "data": {
      "text/plain": [
       "array(['1990', '1997', '1985'], dtype='<U10')"
      ]
     },
     "execution_count": 22,
     "metadata": {},
     "output_type": "execute_result"
    }
   ],
   "source": [
    "x['Age']\n",
    "\n",
    "x['EmployeeType']\n",
    "\n",
    "x['Salary']\n",
    "\n",
    "x['BirthYear']"
   ]
  },
  {
   "cell_type": "code",
   "execution_count": 23,
   "id": "f2287369",
   "metadata": {},
   "outputs": [],
   "source": [
    "import pandas as pd"
   ]
  },
  {
   "cell_type": "code",
   "execution_count": 27,
   "id": "4db4fdcf",
   "metadata": {},
   "outputs": [
    {
     "data": {
      "text/html": [
       "<div>\n",
       "<style scoped>\n",
       "    .dataframe tbody tr th:only-of-type {\n",
       "        vertical-align: middle;\n",
       "    }\n",
       "\n",
       "    .dataframe tbody tr th {\n",
       "        vertical-align: top;\n",
       "    }\n",
       "\n",
       "    .dataframe thead th {\n",
       "        text-align: right;\n",
       "    }\n",
       "</style>\n",
       "<table border=\"1\" class=\"dataframe\">\n",
       "  <thead>\n",
       "    <tr style=\"text-align: right;\">\n",
       "      <th></th>\n",
       "      <th>Names</th>\n",
       "      <th>vaccined</th>\n",
       "      <th>country</th>\n",
       "    </tr>\n",
       "  </thead>\n",
       "  <tbody>\n",
       "    <tr>\n",
       "      <th>A</th>\n",
       "      <td>Alan</td>\n",
       "      <td>True</td>\n",
       "      <td>Pakistan</td>\n",
       "    </tr>\n",
       "    <tr>\n",
       "      <th>B</th>\n",
       "      <td>John</td>\n",
       "      <td>False</td>\n",
       "      <td>China</td>\n",
       "    </tr>\n",
       "    <tr>\n",
       "      <th>C</th>\n",
       "      <td>Cindy</td>\n",
       "      <td>False</td>\n",
       "      <td>Pakistan</td>\n",
       "    </tr>\n",
       "    <tr>\n",
       "      <th>D</th>\n",
       "      <td>Stacy</td>\n",
       "      <td>True</td>\n",
       "      <td>China</td>\n",
       "    </tr>\n",
       "    <tr>\n",
       "      <th>I</th>\n",
       "      <td>Isiaka</td>\n",
       "      <td>True</td>\n",
       "      <td>Pakistan</td>\n",
       "    </tr>\n",
       "    <tr>\n",
       "      <th>E</th>\n",
       "      <td>Diana</td>\n",
       "      <td>False</td>\n",
       "      <td>China</td>\n",
       "    </tr>\n",
       "  </tbody>\n",
       "</table>\n",
       "</div>"
      ],
      "text/plain": [
       "    Names vaccined   country\n",
       "A    Alan     True  Pakistan\n",
       "B    John    False     China\n",
       "C   Cindy    False  Pakistan\n",
       "D   Stacy     True     China\n",
       "I  Isiaka     True  Pakistan\n",
       "E   Diana    False     China"
      ]
     },
     "execution_count": 27,
     "metadata": {},
     "output_type": "execute_result"
    }
   ],
   "source": [
    "name = {'A': 'Alan', 'B':'John','C':'Cindy', 'D': 'Stacy', 'I':'Isiaka', 'E':'Diana'}\n",
    "\n",
    "Vaccinated = {'A': 'True', 'B':'False', 'C':'False', 'D':'True','I':'True', 'E':'False'}\n",
    "\n",
    "Country = {'A':'Pakistan', 'B':'China', 'C':'Pakistan','D':'China','I':'Pakistan','E':'China'}\n",
    "\n",
    "D = pd.DataFrame({'Names':name,'vaccined':Vaccinated, 'country':Country})\n",
    "D"
   ]
  },
  {
   "cell_type": "code",
   "execution_count": 28,
   "id": "f6a84692",
   "metadata": {},
   "outputs": [
    {
     "data": {
      "text/html": [
       "<div>\n",
       "<style scoped>\n",
       "    .dataframe tbody tr th:only-of-type {\n",
       "        vertical-align: middle;\n",
       "    }\n",
       "\n",
       "    .dataframe tbody tr th {\n",
       "        vertical-align: top;\n",
       "    }\n",
       "\n",
       "    .dataframe thead th {\n",
       "        text-align: right;\n",
       "    }\n",
       "</style>\n",
       "<table border=\"1\" class=\"dataframe\">\n",
       "  <thead>\n",
       "    <tr style=\"text-align: right;\">\n",
       "      <th></th>\n",
       "      <th>Names</th>\n",
       "      <th>vaccined</th>\n",
       "    </tr>\n",
       "    <tr>\n",
       "      <th>country</th>\n",
       "      <th></th>\n",
       "      <th></th>\n",
       "    </tr>\n",
       "  </thead>\n",
       "  <tbody>\n",
       "    <tr>\n",
       "      <th>China</th>\n",
       "      <td>JohnStacyDiana</td>\n",
       "      <td>FalseTrueFalse</td>\n",
       "    </tr>\n",
       "    <tr>\n",
       "      <th>Pakistan</th>\n",
       "      <td>AlanCindyIsiaka</td>\n",
       "      <td>TrueFalseTrue</td>\n",
       "    </tr>\n",
       "  </tbody>\n",
       "</table>\n",
       "</div>"
      ],
      "text/plain": [
       "                    Names        vaccined\n",
       "country                                  \n",
       "China      JohnStacyDiana  FalseTrueFalse\n",
       "Pakistan  AlanCindyIsiaka   TrueFalseTrue"
      ]
     },
     "execution_count": 28,
     "metadata": {},
     "output_type": "execute_result"
    }
   ],
   "source": [
    "D.groupby([D.country]).sum()"
   ]
  },
  {
   "cell_type": "code",
   "execution_count": 30,
   "id": "698225d1",
   "metadata": {},
   "outputs": [],
   "source": [
    "#D.groupby([D.country]).mean()"
   ]
  },
  {
   "cell_type": "code",
   "execution_count": 27,
   "id": "b862c118",
   "metadata": {},
   "outputs": [
    {
     "data": {
      "text/plain": [
       "array([['Alan', 'True'],\n",
       "       ['John', 'False'],\n",
       "       ['Cindy', 'False'],\n",
       "       ['Stacy', 'True'],\n",
       "       ['Isiaka', 'True'],\n",
       "       ['Diana', 'False']], dtype=object)"
      ]
     },
     "execution_count": 27,
     "metadata": {},
     "output_type": "execute_result"
    }
   ],
   "source": [
    "D.values"
   ]
  },
  {
   "cell_type": "code",
   "execution_count": 29,
   "id": "6cdf9b97",
   "metadata": {},
   "outputs": [
    {
     "data": {
      "text/plain": [
       "'Isiaka'"
      ]
     },
     "execution_count": 29,
     "metadata": {},
     "output_type": "execute_result"
    }
   ],
   "source": [
    "D.values[4,0]"
   ]
  },
  {
   "cell_type": "code",
   "execution_count": 30,
   "id": "ce18eb3c",
   "metadata": {},
   "outputs": [],
   "source": [
    "K = D[D['vaccined']== 'True']"
   ]
  },
  {
   "cell_type": "code",
   "execution_count": 31,
   "id": "0336720b",
   "metadata": {},
   "outputs": [
    {
     "data": {
      "text/html": [
       "<div>\n",
       "<style scoped>\n",
       "    .dataframe tbody tr th:only-of-type {\n",
       "        vertical-align: middle;\n",
       "    }\n",
       "\n",
       "    .dataframe tbody tr th {\n",
       "        vertical-align: top;\n",
       "    }\n",
       "\n",
       "    .dataframe thead th {\n",
       "        text-align: right;\n",
       "    }\n",
       "</style>\n",
       "<table border=\"1\" class=\"dataframe\">\n",
       "  <thead>\n",
       "    <tr style=\"text-align: right;\">\n",
       "      <th></th>\n",
       "      <th>Names</th>\n",
       "      <th>vaccined</th>\n",
       "    </tr>\n",
       "  </thead>\n",
       "  <tbody>\n",
       "    <tr>\n",
       "      <th>A</th>\n",
       "      <td>Alan</td>\n",
       "      <td>True</td>\n",
       "    </tr>\n",
       "    <tr>\n",
       "      <th>D</th>\n",
       "      <td>Stacy</td>\n",
       "      <td>True</td>\n",
       "    </tr>\n",
       "    <tr>\n",
       "      <th>I</th>\n",
       "      <td>Isiaka</td>\n",
       "      <td>True</td>\n",
       "    </tr>\n",
       "  </tbody>\n",
       "</table>\n",
       "</div>"
      ],
      "text/plain": [
       "    Names vaccined\n",
       "A    Alan     True\n",
       "D   Stacy     True\n",
       "I  Isiaka     True"
      ]
     },
     "execution_count": 31,
     "metadata": {},
     "output_type": "execute_result"
    }
   ],
   "source": [
    "K"
   ]
  },
  {
   "cell_type": "code",
   "execution_count": 32,
   "id": "aefbe2f9",
   "metadata": {},
   "outputs": [],
   "source": [
    "N = D[D['vaccined']== 'False']"
   ]
  },
  {
   "cell_type": "code",
   "execution_count": 33,
   "id": "4d0bfc4a",
   "metadata": {},
   "outputs": [
    {
     "data": {
      "text/html": [
       "<div>\n",
       "<style scoped>\n",
       "    .dataframe tbody tr th:only-of-type {\n",
       "        vertical-align: middle;\n",
       "    }\n",
       "\n",
       "    .dataframe tbody tr th {\n",
       "        vertical-align: top;\n",
       "    }\n",
       "\n",
       "    .dataframe thead th {\n",
       "        text-align: right;\n",
       "    }\n",
       "</style>\n",
       "<table border=\"1\" class=\"dataframe\">\n",
       "  <thead>\n",
       "    <tr style=\"text-align: right;\">\n",
       "      <th></th>\n",
       "      <th>Names</th>\n",
       "      <th>vaccined</th>\n",
       "    </tr>\n",
       "  </thead>\n",
       "  <tbody>\n",
       "    <tr>\n",
       "      <th>B</th>\n",
       "      <td>John</td>\n",
       "      <td>False</td>\n",
       "    </tr>\n",
       "    <tr>\n",
       "      <th>C</th>\n",
       "      <td>Cindy</td>\n",
       "      <td>False</td>\n",
       "    </tr>\n",
       "    <tr>\n",
       "      <th>E</th>\n",
       "      <td>Diana</td>\n",
       "      <td>False</td>\n",
       "    </tr>\n",
       "  </tbody>\n",
       "</table>\n",
       "</div>"
      ],
      "text/plain": [
       "   Names vaccined\n",
       "B   John    False\n",
       "C  Cindy    False\n",
       "E  Diana    False"
      ]
     },
     "execution_count": 33,
     "metadata": {},
     "output_type": "execute_result"
    }
   ],
   "source": [
    "N"
   ]
  },
  {
   "cell_type": "code",
   "execution_count": 33,
   "id": "97619971",
   "metadata": {},
   "outputs": [],
   "source": [
    "df = pd.DataFrame({'A':np.random.randint(0,13,5),\n",
    "                  'B':np.random.randint(0,13,5),\n",
    "                  'C':np.random.randint(0,13,5)})"
   ]
  },
  {
   "cell_type": "code",
   "execution_count": 34,
   "id": "a235f5a3",
   "metadata": {},
   "outputs": [
    {
     "data": {
      "text/html": [
       "<div>\n",
       "<style scoped>\n",
       "    .dataframe tbody tr th:only-of-type {\n",
       "        vertical-align: middle;\n",
       "    }\n",
       "\n",
       "    .dataframe tbody tr th {\n",
       "        vertical-align: top;\n",
       "    }\n",
       "\n",
       "    .dataframe thead th {\n",
       "        text-align: right;\n",
       "    }\n",
       "</style>\n",
       "<table border=\"1\" class=\"dataframe\">\n",
       "  <thead>\n",
       "    <tr style=\"text-align: right;\">\n",
       "      <th></th>\n",
       "      <th>A</th>\n",
       "      <th>B</th>\n",
       "      <th>C</th>\n",
       "    </tr>\n",
       "  </thead>\n",
       "  <tbody>\n",
       "    <tr>\n",
       "      <th>0</th>\n",
       "      <td>3</td>\n",
       "      <td>10</td>\n",
       "      <td>9</td>\n",
       "    </tr>\n",
       "    <tr>\n",
       "      <th>1</th>\n",
       "      <td>4</td>\n",
       "      <td>2</td>\n",
       "      <td>8</td>\n",
       "    </tr>\n",
       "    <tr>\n",
       "      <th>2</th>\n",
       "      <td>8</td>\n",
       "      <td>8</td>\n",
       "      <td>6</td>\n",
       "    </tr>\n",
       "    <tr>\n",
       "      <th>3</th>\n",
       "      <td>2</td>\n",
       "      <td>3</td>\n",
       "      <td>8</td>\n",
       "    </tr>\n",
       "    <tr>\n",
       "      <th>4</th>\n",
       "      <td>1</td>\n",
       "      <td>6</td>\n",
       "      <td>0</td>\n",
       "    </tr>\n",
       "  </tbody>\n",
       "</table>\n",
       "</div>"
      ],
      "text/plain": [
       "   A   B  C\n",
       "0  3  10  9\n",
       "1  4   2  8\n",
       "2  8   8  6\n",
       "3  2   3  8\n",
       "4  1   6  0"
      ]
     },
     "execution_count": 34,
     "metadata": {},
     "output_type": "execute_result"
    }
   ],
   "source": [
    "df"
   ]
  },
  {
   "cell_type": "code",
   "execution_count": 35,
   "id": "5109692d",
   "metadata": {},
   "outputs": [
    {
     "data": {
      "text/html": [
       "<div>\n",
       "<style scoped>\n",
       "    .dataframe tbody tr th:only-of-type {\n",
       "        vertical-align: middle;\n",
       "    }\n",
       "\n",
       "    .dataframe tbody tr th {\n",
       "        vertical-align: top;\n",
       "    }\n",
       "\n",
       "    .dataframe thead th {\n",
       "        text-align: right;\n",
       "    }\n",
       "</style>\n",
       "<table border=\"1\" class=\"dataframe\">\n",
       "  <thead>\n",
       "    <tr style=\"text-align: right;\">\n",
       "      <th></th>\n",
       "      <th>A</th>\n",
       "      <th>B</th>\n",
       "      <th>C</th>\n",
       "    </tr>\n",
       "  </thead>\n",
       "  <tbody>\n",
       "    <tr>\n",
       "      <th>0</th>\n",
       "      <td>3.0</td>\n",
       "      <td>10.0</td>\n",
       "      <td>9.0</td>\n",
       "    </tr>\n",
       "    <tr>\n",
       "      <th>1</th>\n",
       "      <td>7.0</td>\n",
       "      <td>12.0</td>\n",
       "      <td>17.0</td>\n",
       "    </tr>\n",
       "    <tr>\n",
       "      <th>2</th>\n",
       "      <td>15.0</td>\n",
       "      <td>20.0</td>\n",
       "      <td>23.0</td>\n",
       "    </tr>\n",
       "    <tr>\n",
       "      <th>3</th>\n",
       "      <td>14.0</td>\n",
       "      <td>13.0</td>\n",
       "      <td>22.0</td>\n",
       "    </tr>\n",
       "    <tr>\n",
       "      <th>4</th>\n",
       "      <td>11.0</td>\n",
       "      <td>17.0</td>\n",
       "      <td>14.0</td>\n",
       "    </tr>\n",
       "  </tbody>\n",
       "</table>\n",
       "</div>"
      ],
      "text/plain": [
       "      A     B     C\n",
       "0   3.0  10.0   9.0\n",
       "1   7.0  12.0  17.0\n",
       "2  15.0  20.0  23.0\n",
       "3  14.0  13.0  22.0\n",
       "4  11.0  17.0  14.0"
      ]
     },
     "execution_count": 35,
     "metadata": {},
     "output_type": "execute_result"
    }
   ],
   "source": [
    "df.rolling(3,min_periods=1).sum()"
   ]
  },
  {
   "cell_type": "code",
   "execution_count": 36,
   "id": "7e4af51b",
   "metadata": {},
   "outputs": [
    {
     "data": {
      "text/html": [
       "<div>\n",
       "<style scoped>\n",
       "    .dataframe tbody tr th:only-of-type {\n",
       "        vertical-align: middle;\n",
       "    }\n",
       "\n",
       "    .dataframe tbody tr th {\n",
       "        vertical-align: top;\n",
       "    }\n",
       "\n",
       "    .dataframe thead th {\n",
       "        text-align: right;\n",
       "    }\n",
       "</style>\n",
       "<table border=\"1\" class=\"dataframe\">\n",
       "  <thead>\n",
       "    <tr style=\"text-align: right;\">\n",
       "      <th></th>\n",
       "      <th>A</th>\n",
       "      <th>B</th>\n",
       "      <th>C</th>\n",
       "    </tr>\n",
       "  </thead>\n",
       "  <tbody>\n",
       "    <tr>\n",
       "      <th>0</th>\n",
       "      <td>3.000000</td>\n",
       "      <td>10.000000</td>\n",
       "      <td>9.000000</td>\n",
       "    </tr>\n",
       "    <tr>\n",
       "      <th>1</th>\n",
       "      <td>3.500000</td>\n",
       "      <td>6.000000</td>\n",
       "      <td>8.500000</td>\n",
       "    </tr>\n",
       "    <tr>\n",
       "      <th>2</th>\n",
       "      <td>5.000000</td>\n",
       "      <td>6.666667</td>\n",
       "      <td>7.666667</td>\n",
       "    </tr>\n",
       "    <tr>\n",
       "      <th>3</th>\n",
       "      <td>4.666667</td>\n",
       "      <td>4.333333</td>\n",
       "      <td>7.333333</td>\n",
       "    </tr>\n",
       "    <tr>\n",
       "      <th>4</th>\n",
       "      <td>3.666667</td>\n",
       "      <td>5.666667</td>\n",
       "      <td>4.666667</td>\n",
       "    </tr>\n",
       "  </tbody>\n",
       "</table>\n",
       "</div>"
      ],
      "text/plain": [
       "          A          B         C\n",
       "0  3.000000  10.000000  9.000000\n",
       "1  3.500000   6.000000  8.500000\n",
       "2  5.000000   6.666667  7.666667\n",
       "3  4.666667   4.333333  7.333333\n",
       "4  3.666667   5.666667  4.666667"
      ]
     },
     "execution_count": 36,
     "metadata": {},
     "output_type": "execute_result"
    }
   ],
   "source": [
    "df.rolling(3,min_periods=1).mean()"
   ]
  },
  {
   "cell_type": "code",
   "execution_count": null,
   "id": "9ebefce4",
   "metadata": {},
   "outputs": [],
   "source": []
  }
 ],
 "metadata": {
  "kernelspec": {
   "display_name": "Python 3 (ipykernel)",
   "language": "python",
   "name": "python3"
  },
  "language_info": {
   "codemirror_mode": {
    "name": "ipython",
    "version": 3
   },
   "file_extension": ".py",
   "mimetype": "text/x-python",
   "name": "python",
   "nbconvert_exporter": "python",
   "pygments_lexer": "ipython3",
   "version": "3.9.7"
  }
 },
 "nbformat": 4,
 "nbformat_minor": 5
}
